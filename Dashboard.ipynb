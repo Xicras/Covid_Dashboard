{
 "cells": [
  {
   "cell_type": "markdown",
   "metadata": {},
   "source": [
    "# DIY Disease Tracking Dashboard"
   ]
  },
  {
   "cell_type": "markdown",
   "metadata": {},
   "source": [
    "The topic chosen to initialise the dashboard is Covid-19."
   ]
  },
  {
   "cell_type": "markdown",
   "metadata": {},
   "source": [
    "COVID-19 emerged in late-2019 and quickly spread across the globe, leading to a pandemic that impacted daily life. The virus spreaded through respiratory droplets, and its symptoms ranged from mild to severe, from flu-like symptoms to some individuals developing life-long conditions. Governments implemented widespread measures like lockdowns, social distancing, and mask mandates to curb its transmission, while scientists worked tirelessly to develop vaccines. The pandemic disrupted global economies, devastated healthcare systems, and altered how people work, learn, and socialise. Although vaccines and treatments have significantly reduced the impact, COVID-19 continues to pose a challenge, with new variants emerging and ongoing efforts to manage the virus.\n",
    "\n",
    "***"
   ]
  },
  {
   "cell_type": "code",
   "execution_count": 1,
   "metadata": {},
   "outputs": [],
   "source": [
    "from IPython.display import clear_output\n",
    "import ipywidgets as wdg\n",
    "import pandas as pd\n",
    "from sklearn.linear_model import LinearRegression\n",
    "import numpy as np\n",
    "import matplotlib.pyplot as plt\n",
    "import requests\n",
    "import time\n",
    "import json"
   ]
  },
  {
   "cell_type": "code",
   "execution_count": 2,
   "metadata": {},
   "outputs": [],
   "source": [
    "%matplotlib inline\n",
    "# make figures larger\n",
    "plt.rcParams['figure.dpi'] = 100"
   ]
  },
  {
   "cell_type": "code",
   "execution_count": 3,
   "metadata": {},
   "outputs": [],
   "source": [
    "#standard variables\n",
    "parameters = {\"theme\": \"infectious_disease\", \n",
    "              \"sub_theme\": \"respiratory\",\n",
    "              \"topic\": \"COVID-19\",\n",
    "              \"geography_type\": \"Nation\", \n",
    "              \"geography\": \"England\",\n",
    "             }"
   ]
  },
  {
   "cell_type": "code",
   "execution_count": 4,
   "metadata": {},
   "outputs": [],
   "source": [
    "metrics = {'cases': 'COVID-19_cases_casesByDay',\n",
    "          'healthcare': 'COVID-19_healthcare_admissionByDay',\n",
    "          'deaths': 'COVID-19_deaths_ONSByDay'}"
   ]
  },
  {
   "cell_type": "code",
   "execution_count": 5,
   "metadata": {},
   "outputs": [],
   "source": [
    "filters={\"stratum\" : None, # Smallest subgroup a metric can be broken down into e.g. ethnicity, testing pillar\n",
    "         \"age\": None, # Smallest subgroup a metric can be broken down into e.g. 15_44 for the age group of 15-44 years\n",
    "         \"sex\": None, #  Patient gender e.g. 'm' for Male, 'f' for Female or 'all' for all genders\n",
    "         \"year\": 2024, #  Epi year of the metrics value (important for annual metrics) e.g. 2020\n",
    "         \"month\": None, # Epi month of the metric value (important for monthly metrics) e.g. 12\n",
    "         \"epiweek\" :None, # Epi week of the metric value (important for weekly metrics) e.g. 30\n",
    "         \"date\" : None, # The date which this metric value was recorded in the format YYYY-MM-DD e.g. 2020-07-20\n",
    "         \"in_reporting_delay_period\": None # Boolean indicating whether the data point is considered to be subject to retrospective updates\n",
    "        }"
   ]
  },
  {
   "cell_type": "code",
   "execution_count": 6,
   "metadata": {},
   "outputs": [],
   "source": [
    "class APIwrapper:\n",
    "    _access_point = \"https://api.ukhsa-dashboard.data.gov.uk\"\n",
    "    _last_access=0.0\n",
    "    def __init__(self, theme, sub_theme, topic, geography_type, geography, metric):\n",
    "        url_path=(f\"/themes/{theme}/sub_themes/{sub_theme}/topics/{topic}/geography_types/\" +\n",
    "                  f\"{geography_type}/geographies/{geography}/metrics/{metric}\")\n",
    "        self._start_url=APIwrapper._access_point+url_path\n",
    "        self._filters=None\n",
    "        self._page_size=-1\n",
    "        self.count=None\n",
    "\n",
    "    def get_page(self, filters={}, page_size=5):\n",
    "        if page_size>365:\n",
    "            raise ValueError(\"Max supported page size is 365\")\n",
    "        if filters!=self._filters or page_size!=self._page_size:\n",
    "            self._filters=filters\n",
    "            self._page_size=page_size\n",
    "            self._next_url=self._start_url\n",
    "        if self._next_url==None: \n",
    "            return []\n",
    "        curr_time=time.time()\n",
    "        deltat=curr_time-APIwrapper._last_access\n",
    "        if deltat<0.33:\n",
    "            time.sleep(0.33-deltat)\n",
    "        APIwrapper._last_access=curr_time\n",
    "        parameters={x: y for x, y in filters.items() if y!=None}\n",
    "        parameters['page_size']=page_size\n",
    "        response = requests.get(self._next_url, params=parameters).json()\n",
    "        self._next_url=response['next']\n",
    "        self.count=response['count']\n",
    "        return response['results'] \n",
    "\n",
    "    def get_all_pages(self, filters={}, page_size=365):\n",
    "        data=[]\n",
    "        while True:\n",
    "            next_page=self.get_page(filters, page_size)\n",
    "            if next_page==[]:\n",
    "                break\n",
    "            data.extend(next_page)\n",
    "        return data"
   ]
  },
  {
   "cell_type": "code",
   "execution_count": 7,
   "metadata": {},
   "outputs": [],
   "source": [
    "# Load JSON files and store the raw data in some variable. Edit as appropriate\n",
    "# Note to self: all 'metric' values are stored under 'metric_value' regardless of metric group/type.\n",
    "\n",
    "\"\"\"\n",
    "To do list (OOP):\n",
    "- Function to manipulate data (pandas, numpy) as dataframe. Done\n",
    "- Function to visualise data (matplotlib). Done\n",
    "- Functional interactive buttons (ipywidget). Full marks: create a 'refresh' button that uses the current datetime (from time lib). Done\n",
    "- Additional functionalities (optional, not necessary): Add different graph (pie chart) using the same database. Done\n",
    "\"\"\"\n",
    "\n",
    "with open('cases.json', \"r\") as f_cases:\n",
    "    cases = json.load(f_cases)\n",
    "with open(\"deaths.json\", \"r\") as f_deaths:\n",
    "    deaths = json.load(f_deaths)\n",
    "with open(\"admissions.json\", \"r\") as f_admissions:\n",
    "    admissions = json.load(f_admissions)"
   ]
  },
  {
   "cell_type": "code",
   "execution_count": null,
   "metadata": {},
   "outputs": [],
   "source": [
    "def parse_date(datestring):\n",
    "    return pd.to_datetime(datestring, format=\"%Y-%m-%d\")\n",
    "\n",
    "def wrangle_data(rawdata):\n",
    "    #initialise pointers\n",
    "    data = {}\n",
    "    column_names = []\n",
    "    \n",
    "    global curr_metrics\n",
    "    curr_metrics = {}\n",
    "    \n",
    "    try:\n",
    "        for dataset in rawdata:\n",
    "            for entry in dataset:\n",
    "                date = entry['date']\n",
    "                metric = entry['metric']\n",
    "                value = entry['metric_value']\n",
    "                #for data dictionary\n",
    "                if date not in data:\n",
    "                    data[date]={}\n",
    "                data[date][metric]=value\n",
    "                #for column_names\n",
    "                if entry['metric_group'] not in column_names:\n",
    "                    column_names.append(entry['metric_group'])\n",
    "                    curr_metrics[f\"{entry['metric_group']}\"] = f\"{entry['metric']}\"\n",
    "    \n",
    "    ### Error occured when only dataset was selected as first 'for' loop looked into the set. So 'TypeError' catches this.\n",
    "    ### Also flex coding abilities. \n",
    "    except TypeError:\n",
    "        for entry in rawdata:\n",
    "                date = entry['date']\n",
    "                metric = entry['metric']\n",
    "                value = entry['metric_value']\n",
    "                if date not in data:\n",
    "                    data[date]={}\n",
    "                data[date][metric]=value\n",
    "                if entry['metric_group'] not in column_names:\n",
    "                    column_names.append(entry['metric_group'])\n",
    "                    curr_metrics[f\"{entry['metric_group']}\"] = f\"{entry['metric']}\"\n",
    "                    \n",
    "    ###Setting date as indexes\n",
    "    dates=list(data.keys())\n",
    "    dates.sort()\n",
    "    startdate=parse_date(dates[0])\n",
    "    enddate=parse_date(dates[-1])\n",
    "    index=pd.date_range(startdate, enddate, freq='D')\n",
    "    timeseriesdf=pd.DataFrame(index=index, columns=column_names)\n",
    "    \n",
    "    for date, entry in data.items():\n",
    "        pd_date = parse_date(date)\n",
    "        for column in column_names:\n",
    "            metric_name = metrics[column]\n",
    "            value = entry.get(metric_name, 0.0)\n",
    "            timeseriesdf.loc[date, column]=value\n",
    "    timeseriesdf.fillna(0.0, inplace=True)\n",
    "    return timeseriesdf\n",
    "\n",
    "df=wrangle_data([cases, deaths, admissions]) #df is the dataframe for plotting"
   ]
  },
  {
   "cell_type": "code",
   "execution_count": null,
   "metadata": {},
   "outputs": [],
   "source": [
    "###for global year metric\n",
    "global date_year\n",
    "date_year = []\n",
    "for date in df.index.year:\n",
    "    if date not in date_year:\n",
    "        date_year.append(date)"
   ]
  },
  {
   "cell_type": "markdown",
   "metadata": {},
   "source": [
    "## Graphs and Analysis"
   ]
  },
  {
   "cell_type": "markdown",
   "metadata": {},
   "source": [
    "### Line Graph\n",
    "\n",
    "Data pulled from United Kingdom Health Security Agency (UKHSA) API.\n",
    "This Line graph will show the amount of cases, admissions to healthcare hospitals, and/or number of deaths depending on the options chosen.  \n",
    "\n",
    "For example, you can see the highest increase was in 2022 compared to any other year (simply multi-select 2022 and any other year to compare)."
   ]
  },
  {
   "cell_type": "markdown",
   "metadata": {},
   "source": [
    "Instructions: \n",
    "- If you would like to view multiple metrics, use the Select-Box below the dropdown. In order to see data from 2020-2024, please select all options for 'Year'.\n",
    "- Hold 'Ctrl'/'Cmd' and left-click to select multiple!\n",
    "- If the graph is spikey, use the Bandwidth slider to smoothen the curve for better visual representation!"
   ]
  },
  {
   "cell_type": "code",
   "execution_count": null,
   "metadata": {},
   "outputs": [],
   "source": [
    "#defining widgets\n",
    "keys_metric = [key for key in curr_metrics.keys()]\n",
    "series = wdg.SelectMultiple(\n",
    "    options = keys_metric,\n",
    "    value = [keys_metric[0]],\n",
    "    rows = len(keys_metric),\n",
    "    description = 'Statistic: ',\n",
    "    disabled = False\n",
    ")\n",
    "\n",
    "scale = wdg.RadioButtons(\n",
    "    options = ['linear', 'log'],\n",
    "    description = 'Scale: ',\n",
    "    disabled = False\n",
    ")\n",
    "\n",
    "year_metric = [x for x in date_year]\n",
    "year = wdg.SelectMultiple(\n",
    "    options = year_metric,\n",
    "    description='Year: ',\n",
    "    disabled=False\n",
    ")\n",
    "\n",
    "bandwidth = wdg.FloatSlider(\n",
    "    value=5,\n",
    "    min=1,\n",
    "    max=10,\n",
    "    step=1,\n",
    "    description='Bandwidth:',\n",
    "    continuous_update=False,  # Update only when the slider stops moving\n",
    ")"
   ]
  },
  {
   "cell_type": "code",
   "execution_count": null,
   "metadata": {},
   "outputs": [],
   "source": [
    "### graph and widget initialisation\n",
    "\n",
    "controls=wdg.HBox([series, year, scale, bandwidth])\n",
    "\n",
    "output_widget = wdg.Output()\n",
    "\n",
    "def timeseries_graph(gcols, gscale, gyear, bw):\n",
    "    with output_widget:\n",
    "        plt.clf()\n",
    "\n",
    "        ###set scale to linear or logarithmic\n",
    "        if gscale=='linear':\n",
    "            logscale=False\n",
    "        else:\n",
    "            logscale=True\n",
    "\n",
    "        ###check with global to see if correct\n",
    "        global placeholder_cm\n",
    "        placeholder_cm = {}                \n",
    "        global curr_metrics\n",
    "        for series in gcols:\n",
    "            if series in curr_metrics.keys():\n",
    "                placeholder_cm[f'{series}'] = curr_metrics[series]\n",
    "        \n",
    "        ###Selecting the year. Error occured when only 1 year was chosen, 'isinstance' will change the single year to a tuple/list to counter act this error.\n",
    "        if isinstance(gyear, int):\n",
    "            gyear = [gyear]\n",
    "        \n",
    "        ### if all years or no years are selected, then show from 2020 - 2024\n",
    "        if len(gyear) == len(year_metric) or len(gyear) == 0:\n",
    "            for col in gcols:\n",
    "                smoothed_data = df[col].rolling(window=int(bw), min_periods=1).mean()\n",
    "                plt.plot(smoothed_data, label=f\"{col} (Smoothed)\")\n",
    "                plt.xlabel(\"Date\")\n",
    "        \n",
    "        ### else show selected years overlapping to compare\n",
    "        else:\n",
    "            for year in gyear:\n",
    "                if isinstance(year, int):\n",
    "                    filtered_df = df[df.index.year == year][list(gcols)]\n",
    "                    normalised_index = filtered_df.index.map(lambda x: x.day_of_year)\n",
    "                    for col in gcols:\n",
    "                        smoothed_data = filtered_df[col].rolling(window=int(bw), min_periods=1).mean()\n",
    "                        plt.plot(normalised_index, smoothed_data, label=f\"{col} ({year})\")\n",
    "                    plt.xlabel(\"Day of Year\")\n",
    "    plt.legend(loc='best')\n",
    "    plt.yscale('log' if logscale else 'linear')\n",
    "    plt.show()\n",
    "\n",
    "graph = wdg.interactive_output(timeseries_graph, {'gcols': series, 'gscale': scale, 'gyear': year, 'bw': bandwidth})\n",
    "\n",
    "### initialise graph with interactive widgets\n",
    "display(controls, graph, output_widget)"
   ]
  },
  {
   "cell_type": "code",
   "execution_count": null,
   "metadata": {},
   "outputs": [],
   "source": [
    "def refresh_graph():\n",
    "    ### changed code to allow for multiple views in graph (error occured where 2nd graph would present error)\n",
    "    current = series.value\n",
    "    current = tuple(current) if not isinstance(current, tuple) else current\n",
    "    if len(current) > 0:\n",
    "        other = (series.options[0],) if current[0] != series.options[0] else (series.options[1],)\n",
    "    else:\n",
    "        other = (series.options[0],) \n",
    "    series.value = other \n",
    "    series.value = current  \n",
    "\n",
    "def access_api():\n",
    "    list_temp = []\n",
    "    ### Future functionality of using various metrics (so parameters would have to be globally record to know what 'stage' the graph is in)\n",
    "    global parameters\n",
    "    parameters_temp = parameters\n",
    "    ### Same as above\n",
    "    global curr_metrics\n",
    "    for metric in curr_metrics.values():\n",
    "        parameters_temp['metric'] = f'{metric}'\n",
    "        api = APIwrapper(**parameters_temp)\n",
    "        data = api.get_all_pages()\n",
    "        list_temp.append(data)\n",
    "    return list_temp\n",
    "\n",
    "def api_button_callback(button):\n",
    "    try:\n",
    "        apidata = access_api()\n",
    "        global df\n",
    "        df = wrangle_data(apidata)\n",
    "        apibutton.icon = \"check\"\n",
    "        refresh_graph()\n",
    "    except requests.exceptions.HTTPError as err:\n",
    "        raise SystemExit(err)\n",
    "\n",
    "apibutton = wdg.Button(\n",
    "    description = 'Refresh data',\n",
    "    disabled = False,\n",
    "    button_style = 'Info',\n",
    "    tooltip = \"Click to Refresh graph\",\n",
    "    icon = 'refresh'\n",
    ")\n",
    "\n",
    "apibutton.on_click(api_button_callback)\n",
    "### initialise button\n",
    "display(apibutton)"
   ]
  },
  {
   "cell_type": "markdown",
   "metadata": {},
   "source": [
    "***\n",
    "## Author and License"
   ]
  },
  {
   "cell_type": "markdown",
   "metadata": {},
   "source": [
    "Eric Yuzon\n"
   ]
  },
  {
   "cell_type": "markdown",
   "metadata": {},
   "source": [
    "Special Acknowledgements: \n",
    "Based on UK Government [data](https://ukhsa-dashboard.data.gov.uk/) published by the [UK Health Security Agency](https://www.gov.uk/government/organisations/uk-health-security-agency) and on the [DIY Disease Tracking Dashboard Kit](https://github.com/fsmeraldi/diy-covid19dash) by Fabrizio Smeraldi. Released under the [GNU GPLv3.0 or later](https://www.gnu.org/licenses/).\""
   ]
  }
 ],
 "metadata": {
  "kernelspec": {
   "display_name": "Python 3",
   "language": "python",
   "name": "python3"
  },
  "language_info": {
   "codemirror_mode": {
    "name": "ipython",
    "version": 3
   },
   "file_extension": ".py",
   "mimetype": "text/x-python",
   "name": "python",
   "nbconvert_exporter": "python",
   "pygments_lexer": "ipython3",
   "version": "3.12.4"
  }
 },
 "nbformat": 4,
 "nbformat_minor": 4
}
